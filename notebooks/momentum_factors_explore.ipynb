{
 "cells": [
  {
   "cell_type": "markdown",
   "metadata": {},
   "source": [
    "Hey Guys!!\n",
    "\n",
    "Had a great discussion, yesterday. We have zeroed-in on our next steps. Personally I learnt a lot and felt it was awesome."
   ]
  },
  {
   "cell_type": "markdown",
   "metadata": {},
   "source": [
    "# Action Items :\n",
    "\n",
    "### Create big-ass dataframe :p \n",
    "1. Find other series, that we think impacts QQQ price. (Some of the interesting series to look at . Thanks Emma)\n",
    "2. Find factors and implement them for these series (Factors provided by Stefan's Chapter 4, is a starting point)\n",
    "\n",
    "### CRISP-DM\n",
    "\n",
    "1. Create Target Variable. (5 Class of possible Returns with probabilities)\n",
    "2. Choose an Evaluation Metric. \n",
    "3. Create a tranining row with.\n",
    "4. Modelling (feature selection, feature engineering, model iteration, hyper parameter tuning)\n",
    "\n",
    " and So on. \n"
   ]
  },
  {
   "cell_type": "code",
   "execution_count": 85,
   "metadata": {},
   "outputs": [],
   "source": [
    "# QQQ Data."
   ]
  },
  {
   "cell_type": "code",
   "execution_count": 86,
   "metadata": {},
   "outputs": [],
   "source": [
    "import pandas as pd\n",
    "import seaborn as sns"
   ]
  },
  {
   "cell_type": "code",
   "execution_count": 87,
   "metadata": {},
   "outputs": [],
   "source": [
    "# Read QQQ Data (Downloaded from Yahoo )"
   ]
  },
  {
   "cell_type": "code",
   "execution_count": 88,
   "metadata": {},
   "outputs": [],
   "source": [
    "qqq = pd.read_csv('data/QQQ.csv')"
   ]
  },
  {
   "cell_type": "code",
   "execution_count": 89,
   "metadata": {},
   "outputs": [
    {
     "data": {
      "text/html": [
       "<div>\n",
       "<style scoped>\n",
       "    .dataframe tbody tr th:only-of-type {\n",
       "        vertical-align: middle;\n",
       "    }\n",
       "\n",
       "    .dataframe tbody tr th {\n",
       "        vertical-align: top;\n",
       "    }\n",
       "\n",
       "    .dataframe thead th {\n",
       "        text-align: right;\n",
       "    }\n",
       "</style>\n",
       "<table border=\"1\" class=\"dataframe\">\n",
       "  <thead>\n",
       "    <tr style=\"text-align: right;\">\n",
       "      <th></th>\n",
       "      <th>Date</th>\n",
       "      <th>Open</th>\n",
       "      <th>High</th>\n",
       "      <th>Low</th>\n",
       "      <th>Close</th>\n",
       "      <th>Adj Close</th>\n",
       "      <th>Volume</th>\n",
       "    </tr>\n",
       "  </thead>\n",
       "  <tbody>\n",
       "    <tr>\n",
       "      <th>0</th>\n",
       "      <td>1999-03-10</td>\n",
       "      <td>51.12500</td>\n",
       "      <td>51.156250</td>\n",
       "      <td>50.28125</td>\n",
       "      <td>51.0625</td>\n",
       "      <td>44.523476</td>\n",
       "      <td>5232000</td>\n",
       "    </tr>\n",
       "    <tr>\n",
       "      <th>1</th>\n",
       "      <td>1999-03-11</td>\n",
       "      <td>51.43750</td>\n",
       "      <td>51.734375</td>\n",
       "      <td>50.31250</td>\n",
       "      <td>51.3125</td>\n",
       "      <td>44.741455</td>\n",
       "      <td>9688600</td>\n",
       "    </tr>\n",
       "    <tr>\n",
       "      <th>2</th>\n",
       "      <td>1999-03-12</td>\n",
       "      <td>51.12500</td>\n",
       "      <td>51.156250</td>\n",
       "      <td>49.65625</td>\n",
       "      <td>50.0625</td>\n",
       "      <td>43.651520</td>\n",
       "      <td>8743600</td>\n",
       "    </tr>\n",
       "    <tr>\n",
       "      <th>3</th>\n",
       "      <td>1999-03-15</td>\n",
       "      <td>50.43750</td>\n",
       "      <td>51.562500</td>\n",
       "      <td>49.90625</td>\n",
       "      <td>51.5000</td>\n",
       "      <td>44.904942</td>\n",
       "      <td>6369000</td>\n",
       "    </tr>\n",
       "    <tr>\n",
       "      <th>4</th>\n",
       "      <td>1999-03-16</td>\n",
       "      <td>51.71875</td>\n",
       "      <td>52.156250</td>\n",
       "      <td>51.15625</td>\n",
       "      <td>51.9375</td>\n",
       "      <td>45.286419</td>\n",
       "      <td>4905800</td>\n",
       "    </tr>\n",
       "  </tbody>\n",
       "</table>\n",
       "</div>"
      ],
      "text/plain": [
       "         Date      Open       High       Low    Close  Adj Close   Volume\n",
       "0  1999-03-10  51.12500  51.156250  50.28125  51.0625  44.523476  5232000\n",
       "1  1999-03-11  51.43750  51.734375  50.31250  51.3125  44.741455  9688600\n",
       "2  1999-03-12  51.12500  51.156250  49.65625  50.0625  43.651520  8743600\n",
       "3  1999-03-15  50.43750  51.562500  49.90625  51.5000  44.904942  6369000\n",
       "4  1999-03-16  51.71875  52.156250  51.15625  51.9375  45.286419  4905800"
      ]
     },
     "execution_count": 89,
     "metadata": {},
     "output_type": "execute_result"
    }
   ],
   "source": [
    "qqq.head()"
   ]
  },
  {
   "cell_type": "code",
   "execution_count": 90,
   "metadata": {},
   "outputs": [],
   "source": [
    "qqq['Date'] = pd.to_datetime(qqq['Date'])"
   ]
  },
  {
   "cell_type": "code",
   "execution_count": 91,
   "metadata": {},
   "outputs": [
    {
     "name": "stdout",
     "output_type": "stream",
     "text": [
      "<class 'pandas.core.frame.DataFrame'>\n",
      "RangeIndex: 5455 entries, 0 to 5454\n",
      "Data columns (total 7 columns):\n",
      " #   Column     Non-Null Count  Dtype         \n",
      "---  ------     --------------  -----         \n",
      " 0   Date       5455 non-null   datetime64[ns]\n",
      " 1   Open       5455 non-null   float64       \n",
      " 2   High       5455 non-null   float64       \n",
      " 3   Low        5455 non-null   float64       \n",
      " 4   Close      5455 non-null   float64       \n",
      " 5   Adj Close  5455 non-null   float64       \n",
      " 6   Volume     5455 non-null   int64         \n",
      "dtypes: datetime64[ns](1), float64(5), int64(1)\n",
      "memory usage: 298.4 KB\n"
     ]
    }
   ],
   "source": [
    "qqq.info()"
   ]
  },
  {
   "cell_type": "code",
   "execution_count": 92,
   "metadata": {},
   "outputs": [],
   "source": [
    "# QQQ Basic Exploration"
   ]
  },
  {
   "cell_type": "code",
   "execution_count": 93,
   "metadata": {},
   "outputs": [
    {
     "data": {
      "text/plain": [
       "<matplotlib.axes._subplots.AxesSubplot at 0x7fb8976daeb8>"
      ]
     },
     "execution_count": 93,
     "metadata": {},
     "output_type": "execute_result"
    },
    {
     "data": {
      "image/png": "[encoded data removed]",
      "text/plain": [
       "<Figure size 432x288 with 1 Axes>"
      ]
     },
     "metadata": {
      "needs_background": "light"
     },
     "output_type": "display_data"
    }
   ],
   "source": [
    "sns.lineplot(data = qqq,x='Date',y='Open')"
   ]
  },
  {
   "cell_type": "code",
   "execution_count": 94,
   "metadata": {},
   "outputs": [
    {
     "data": {
      "text/plain": [
       "<matplotlib.axes._subplots.AxesSubplot at 0x7fb8976a0940>"
      ]
     },
     "execution_count": 94,
     "metadata": {},
     "output_type": "execute_result"
    },
    {
     "data": {
      "image/png": "[encoded data removed]",
      "text/plain": [
       "<Figure size 432x288 with 1 Axes>"
      ]
     },
     "metadata": {
      "needs_background": "light"
     },
     "output_type": "display_data"
    }
   ],
   "source": [
    "sns.lineplot(data = qqq,x='Date',y='Volume')"
   ]
  },
  {
   "cell_type": "code",
   "execution_count": 101,
   "metadata": {},
   "outputs": [],
   "source": [
    "import talib"
   ]
  },
  {
   "cell_type": "markdown",
   "metadata": {},
   "source": [
    "## Feature Creation"
   ]
  },
  {
   "cell_type": "code",
   "execution_count": 104,
   "metadata": {},
   "outputs": [],
   "source": [
    "qqq['RSI'] = talib.RSI(qqq['Open'], timeperiod=14)\n",
    "qqq['MOM'] = talib.MOM(qqq['Open'],timeperiod=14)"
   ]
  },
  {
   "cell_type": "code",
   "execution_count": 105,
   "metadata": {},
   "outputs": [
    {
     "data": {
      "text/html": [
       "<div>\n",
       "<style scoped>\n",
       "    .dataframe tbody tr th:only-of-type {\n",
       "        vertical-align: middle;\n",
       "    }\n",
       "\n",
       "    .dataframe tbody tr th {\n",
       "        vertical-align: top;\n",
       "    }\n",
       "\n",
       "    .dataframe thead th {\n",
       "        text-align: right;\n",
       "    }\n",
       "</style>\n",
       "<table border=\"1\" class=\"dataframe\">\n",
       "  <thead>\n",
       "    <tr style=\"text-align: right;\">\n",
       "      <th></th>\n",
       "      <th>Date</th>\n",
       "      <th>Open</th>\n",
       "      <th>High</th>\n",
       "      <th>Low</th>\n",
       "      <th>Close</th>\n",
       "      <th>Adj Close</th>\n",
       "      <th>Volume</th>\n",
       "      <th>rsi</th>\n",
       "      <th>mom</th>\n",
       "      <th>RSI</th>\n",
       "      <th>MOM</th>\n",
       "    </tr>\n",
       "  </thead>\n",
       "  <tbody>\n",
       "    <tr>\n",
       "      <th>0</th>\n",
       "      <td>1999-03-10</td>\n",
       "      <td>51.125000</td>\n",
       "      <td>51.156250</td>\n",
       "      <td>50.281250</td>\n",
       "      <td>51.062500</td>\n",
       "      <td>44.523476</td>\n",
       "      <td>5232000</td>\n",
       "      <td>NaN</td>\n",
       "      <td>NaN</td>\n",
       "      <td>NaN</td>\n",
       "      <td>NaN</td>\n",
       "    </tr>\n",
       "    <tr>\n",
       "      <th>1</th>\n",
       "      <td>1999-03-11</td>\n",
       "      <td>51.437500</td>\n",
       "      <td>51.734375</td>\n",
       "      <td>50.312500</td>\n",
       "      <td>51.312500</td>\n",
       "      <td>44.741455</td>\n",
       "      <td>9688600</td>\n",
       "      <td>NaN</td>\n",
       "      <td>NaN</td>\n",
       "      <td>NaN</td>\n",
       "      <td>NaN</td>\n",
       "    </tr>\n",
       "    <tr>\n",
       "      <th>2</th>\n",
       "      <td>1999-03-12</td>\n",
       "      <td>51.125000</td>\n",
       "      <td>51.156250</td>\n",
       "      <td>49.656250</td>\n",
       "      <td>50.062500</td>\n",
       "      <td>43.651520</td>\n",
       "      <td>8743600</td>\n",
       "      <td>NaN</td>\n",
       "      <td>NaN</td>\n",
       "      <td>NaN</td>\n",
       "      <td>NaN</td>\n",
       "    </tr>\n",
       "    <tr>\n",
       "      <th>3</th>\n",
       "      <td>1999-03-15</td>\n",
       "      <td>50.437500</td>\n",
       "      <td>51.562500</td>\n",
       "      <td>49.906250</td>\n",
       "      <td>51.500000</td>\n",
       "      <td>44.904942</td>\n",
       "      <td>6369000</td>\n",
       "      <td>NaN</td>\n",
       "      <td>NaN</td>\n",
       "      <td>NaN</td>\n",
       "      <td>NaN</td>\n",
       "    </tr>\n",
       "    <tr>\n",
       "      <th>4</th>\n",
       "      <td>1999-03-16</td>\n",
       "      <td>51.718750</td>\n",
       "      <td>52.156250</td>\n",
       "      <td>51.156250</td>\n",
       "      <td>51.937500</td>\n",
       "      <td>45.286419</td>\n",
       "      <td>4905800</td>\n",
       "      <td>NaN</td>\n",
       "      <td>NaN</td>\n",
       "      <td>NaN</td>\n",
       "      <td>NaN</td>\n",
       "    </tr>\n",
       "    <tr>\n",
       "      <th>...</th>\n",
       "      <td>...</td>\n",
       "      <td>...</td>\n",
       "      <td>...</td>\n",
       "      <td>...</td>\n",
       "      <td>...</td>\n",
       "      <td>...</td>\n",
       "      <td>...</td>\n",
       "      <td>...</td>\n",
       "      <td>...</td>\n",
       "      <td>...</td>\n",
       "      <td>...</td>\n",
       "    </tr>\n",
       "    <tr>\n",
       "      <th>5450</th>\n",
       "      <td>2020-11-03</td>\n",
       "      <td>271.959991</td>\n",
       "      <td>276.820007</td>\n",
       "      <td>270.839996</td>\n",
       "      <td>274.649994</td>\n",
       "      <td>274.649994</td>\n",
       "      <td>43604100</td>\n",
       "      <td>39.872134</td>\n",
       "      <td>-23.399994</td>\n",
       "      <td>39.872134</td>\n",
       "      <td>-23.399994</td>\n",
       "    </tr>\n",
       "    <tr>\n",
       "      <th>5451</th>\n",
       "      <td>2020-11-04</td>\n",
       "      <td>283.589996</td>\n",
       "      <td>288.769989</td>\n",
       "      <td>281.869995</td>\n",
       "      <td>286.910004</td>\n",
       "      <td>286.910004</td>\n",
       "      <td>75728200</td>\n",
       "      <td>53.624271</td>\n",
       "      <td>-3.610016</td>\n",
       "      <td>53.624271</td>\n",
       "      <td>-3.610016</td>\n",
       "    </tr>\n",
       "    <tr>\n",
       "      <th>5452</th>\n",
       "      <td>2020-11-05</td>\n",
       "      <td>293.529999</td>\n",
       "      <td>295.390015</td>\n",
       "      <td>292.000000</td>\n",
       "      <td>294.390015</td>\n",
       "      <td>294.390015</td>\n",
       "      <td>52054200</td>\n",
       "      <td>61.689298</td>\n",
       "      <td>1.730011</td>\n",
       "      <td>61.689298</td>\n",
       "      <td>1.730011</td>\n",
       "    </tr>\n",
       "    <tr>\n",
       "      <th>5453</th>\n",
       "      <td>2020-11-06</td>\n",
       "      <td>293.709991</td>\n",
       "      <td>295.359985</td>\n",
       "      <td>289.829987</td>\n",
       "      <td>294.609985</td>\n",
       "      <td>294.609985</td>\n",
       "      <td>40959800</td>\n",
       "      <td>61.818782</td>\n",
       "      <td>3.220001</td>\n",
       "      <td>61.818782</td>\n",
       "      <td>3.220001</td>\n",
       "    </tr>\n",
       "    <tr>\n",
       "      <th>5454</th>\n",
       "      <td>2020-11-09</td>\n",
       "      <td>297.649994</td>\n",
       "      <td>299.140015</td>\n",
       "      <td>288.119995</td>\n",
       "      <td>288.589996</td>\n",
       "      <td>288.589996</td>\n",
       "      <td>86237300</td>\n",
       "      <td>64.636390</td>\n",
       "      <td>13.089996</td>\n",
       "      <td>64.636390</td>\n",
       "      <td>13.089996</td>\n",
       "    </tr>\n",
       "  </tbody>\n",
       "</table>\n",
       "<p>5455 rows × 11 columns</p>\n",
       "</div>"
      ],
      "text/plain": [
       "           Date        Open        High         Low       Close   Adj Close  \\\n",
       "0    1999-03-10   51.125000   51.156250   50.281250   51.062500   44.523476   \n",
       "1    1999-03-11   51.437500   51.734375   50.312500   51.312500   44.741455   \n",
       "2    1999-03-12   51.125000   51.156250   49.656250   50.062500   43.651520   \n",
       "3    1999-03-15   50.437500   51.562500   49.906250   51.500000   44.904942   \n",
       "4    1999-03-16   51.718750   52.156250   51.156250   51.937500   45.286419   \n",
       "...         ...         ...         ...         ...         ...         ...   \n",
       "5450 2020-11-03  271.959991  276.820007  270.839996  274.649994  274.649994   \n",
       "5451 2020-11-04  283.589996  288.769989  281.869995  286.910004  286.910004   \n",
       "5452 2020-11-05  293.529999  295.390015  292.000000  294.390015  294.390015   \n",
       "5453 2020-11-06  293.709991  295.359985  289.829987  294.609985  294.609985   \n",
       "5454 2020-11-09  297.649994  299.140015  288.119995  288.589996  288.589996   \n",
       "\n",
       "        Volume        rsi        mom        RSI        MOM  \n",
       "0      5232000        NaN        NaN        NaN        NaN  \n",
       "1      9688600        NaN        NaN        NaN        NaN  \n",
       "2      8743600        NaN        NaN        NaN        NaN  \n",
       "3      6369000        NaN        NaN        NaN        NaN  \n",
       "4      4905800        NaN        NaN        NaN        NaN  \n",
       "...        ...        ...        ...        ...        ...  \n",
       "5450  43604100  39.872134 -23.399994  39.872134 -23.399994  \n",
       "5451  75728200  53.624271  -3.610016  53.624271  -3.610016  \n",
       "5452  52054200  61.689298   1.730011  61.689298   1.730011  \n",
       "5453  40959800  61.818782   3.220001  61.818782   3.220001  \n",
       "5454  86237300  64.636390  13.089996  64.636390  13.089996  \n",
       "\n",
       "[5455 rows x 11 columns]"
      ]
     },
     "execution_count": 105,
     "metadata": {},
     "output_type": "execute_result"
    }
   ],
   "source": [
    "qqq"
   ]
  }
 ],
 "metadata": {
  "kernelspec": {
   "display_name": "fin-ml",
   "language": "python",
   "name": "fin-ml"
  },
  "language_info": {
   "codemirror_mode": {
    "name": "ipython",
    "version": 3
   },
   "file_extension": ".py",
   "mimetype": "text/x-python",
   "name": "python",
   "nbconvert_exporter": "python",
   "pygments_lexer": "ipython3",
   "version": "3.6.10"
  }
 },
 "nbformat": 4,
 "nbformat_minor": 4
}
